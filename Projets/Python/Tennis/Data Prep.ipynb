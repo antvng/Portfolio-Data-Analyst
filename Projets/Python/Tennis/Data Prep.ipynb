{
 "cells": [
  {
   "cell_type": "markdown",
   "id": "db608faa",
   "metadata": {},
   "source": [
    "# 🎾 Tennis GOAT Project – ETL Data Preparation\n",
    "\n",
    ">Ce notebook contient l'étape de préparation des données (ETL) à partir du dataset ATP fourni par Jeff Sackmann (1968–2024).\n",
    "\n",
    "🎯 **Objectif : construire une base propre pour analyser les performances des joueurs et identifier le GOAT et ses potentiels successeurs.**"
   ]
  },
  {
   "cell_type": "markdown",
   "id": "04d253df",
   "metadata": {},
   "source": [
    "# Import des Libraries"
   ]
  },
  {
   "cell_type": "code",
   "execution_count": 2,
   "id": "40fa7717",
   "metadata": {},
   "outputs": [],
   "source": [
    "import pandas as pd\n",
    "import os\n",
    "import glob\n",
    "import warnings\n",
    "warnings.filterwarnings(\"ignore\")  "
   ]
  },
  {
   "cell_type": "markdown",
   "id": "72b933ef",
   "metadata": {},
   "source": [
    "##  Chargement des fichiers atp_matches_*.csv et fusion en un seul DF"
   ]
  },
  {
   "cell_type": "code",
   "execution_count": 3,
   "id": "e8a3bf0f",
   "metadata": {},
   "outputs": [
    {
     "name": "stdout",
     "output_type": "stream",
     "text": [
      "160 fichiers trouvés\n"
     ]
    }
   ],
   "source": [
    "data_path = r\"C:\\Users\\jackd\\Downloads\\Portfolio Data Analyst\\Python\\Tennis\\data_tennis\"\n",
    "all_files = glob.glob(os.path.join(data_path, \"atp_matches_*.csv\"))\n",
    "\n",
    "print(f\"{len(all_files)} fichiers trouvés\")"
   ]
  },
  {
   "cell_type": "code",
   "execution_count": 4,
   "id": "5ae685b7",
   "metadata": {},
   "outputs": [
    {
     "name": "stdout",
     "output_type": "stream",
     "text": [
      "968048 lignes au total après fusion\n"
     ]
    }
   ],
   "source": [
    "df_list = [pd.read_csv(f) for f in all_files]\n",
    "df_all = pd.concat(df_list, ignore_index=True)\n",
    "print(f\"{df_all.shape[0]} lignes au total après fusion\")"
   ]
  },
  {
   "cell_type": "markdown",
   "id": "d0572467",
   "metadata": {},
   "source": [
    "# Conversion de date et d'une colonne pour l'année"
   ]
  },
  {
   "cell_type": "code",
   "execution_count": 5,
   "id": "2df64550",
   "metadata": {},
   "outputs": [],
   "source": [
    "df_all['tourney_date'] = pd.to_datetime(df_all['tourney_date'], format='%Y%m%d', errors='coerce')\n",
    "df_all['year'] = df_all['tourney_date'].dt.year"
   ]
  },
  {
   "cell_type": "markdown",
   "id": "413192e5",
   "metadata": {},
   "source": [
    "# Nettoyage des doublons"
   ]
  },
  {
   "cell_type": "code",
   "execution_count": 6,
   "id": "f093e462",
   "metadata": {},
   "outputs": [
    {
     "name": "stdout",
     "output_type": "stream",
     "text": [
      "Doublons exacts : 3\n"
     ]
    }
   ],
   "source": [
    "print(f\"Doublons exacts : {df_all.duplicated().sum()}\")\n",
    "df_all = df_all.drop_duplicates()"
   ]
  },
  {
   "cell_type": "markdown",
   "id": "2350bb5a",
   "metadata": {},
   "source": [
    "# Standardisation des noms (si espace par ex)"
   ]
  },
  {
   "cell_type": "code",
   "execution_count": 7,
   "id": "1e617b7c",
   "metadata": {},
   "outputs": [],
   "source": [
    "df_all['winner_name'] = df_all['winner_name'].str.strip()\n",
    "df_all['loser_name'] = df_all['loser_name'].str.strip()"
   ]
  },
  {
   "cell_type": "markdown",
   "id": "d675c714",
   "metadata": {},
   "source": [
    "# Supression de lignes incomplètes (possibilité pas de perdant/gagnant mais très rare)"
   ]
  },
  {
   "cell_type": "code",
   "execution_count": 8,
   "id": "9eccc046",
   "metadata": {},
   "outputs": [],
   "source": [
    "df_all = df_all[df_all['winner_name'].notnull() & df_all['loser_name'].notnull()]\n",
    "df_all = df_all[df_all['winner_name'] != '']\n",
    "df_all = df_all[df_all['loser_name'] != '']"
   ]
  },
  {
   "cell_type": "markdown",
   "id": "9467b60f",
   "metadata": {},
   "source": [
    "# Sélection des colonnes qui seront utiles aux analyses suivantes"
   ]
  },
  {
   "cell_type": "code",
   "execution_count": 9,
   "id": "f499a36b",
   "metadata": {},
   "outputs": [],
   "source": [
    "cols_to_keep = [\n",
    "    'tourney_id', 'tourney_name', 'surface', 'tourney_level', 'tourney_date', 'year',\n",
    "    'winner_name', 'loser_name', 'score', 'round',\n",
    "    'winner_rank', 'loser_rank', 'winner_seed', 'loser_seed'\n",
    "]\n",
    "df_all = df_all[cols_to_keep]\n",
    "\n",
    "# Nettoyage des types numériques\n",
    "df_all['winner_rank'] = pd.to_numeric(df_all['winner_rank'], errors='coerce')\n",
    "df_all['loser_rank'] = pd.to_numeric(df_all['loser_rank'], errors='coerce')\n",
    "df_all['winner_seed'] = pd.to_numeric(df_all['winner_seed'], errors='coerce')\n",
    "df_all['loser_seed'] = pd.to_numeric(df_all['loser_seed'], errors='coerce')"
   ]
  },
  {
   "cell_type": "markdown",
   "id": "b3253aaf",
   "metadata": {},
   "source": [
    "# Standardisation des surfaces"
   ]
  },
  {
   "cell_type": "code",
   "execution_count": 10,
   "id": "0a244cfe",
   "metadata": {},
   "outputs": [],
   "source": [
    "df_all['surface'] = df_all['surface'].str.lower()\n",
    "df_all = df_all[df_all['surface'].isin(['clay', 'hard', 'grass', 'carpet'])]"
   ]
  },
  {
   "cell_type": "markdown",
   "id": "afeecc66",
   "metadata": {},
   "source": [
    "# Double Check"
   ]
  },
  {
   "cell_type": "code",
   "execution_count": 11,
   "id": "c1dc9fac",
   "metadata": {},
   "outputs": [
    {
     "name": "stdout",
     "output_type": "stream",
     "text": [
      "(937012, 14)\n",
      "<class 'pandas.core.frame.DataFrame'>\n",
      "Int64Index: 937012 entries, 0 to 968047\n",
      "Data columns (total 14 columns):\n",
      " #   Column         Non-Null Count   Dtype         \n",
      "---  ------         --------------   -----         \n",
      " 0   tourney_id     937012 non-null  object        \n",
      " 1   tourney_name   937012 non-null  object        \n",
      " 2   surface        937012 non-null  object        \n",
      " 3   tourney_level  937012 non-null  object        \n",
      " 4   tourney_date   937012 non-null  datetime64[ns]\n",
      " 5   year           937012 non-null  float64       \n",
      " 6   winner_name    937012 non-null  object        \n",
      " 7   loser_name     937012 non-null  object        \n",
      " 8   score          936858 non-null  object        \n",
      " 9   round          937012 non-null  object        \n",
      " 10  winner_rank    832144 non-null  float64       \n",
      " 11  loser_rank     763597 non-null  float64       \n",
      " 12  winner_seed    399776 non-null  float64       \n",
      " 13  loser_seed     205007 non-null  float64       \n",
      "dtypes: datetime64[ns](1), float64(5), object(8)\n",
      "memory usage: 107.2+ MB\n"
     ]
    }
   ],
   "source": [
    "print(df_all.shape)\n",
    "df_all.head()\n",
    "df_all.info()"
   ]
  },
  {
   "cell_type": "markdown",
   "id": "2f9d6c5c",
   "metadata": {},
   "source": [
    "# Save"
   ]
  },
  {
   "cell_type": "code",
   "execution_count": 12,
   "id": "40a4d02c",
   "metadata": {},
   "outputs": [
    {
     "name": "stdout",
     "output_type": "stream",
     "text": [
      "Fichier sauvegardé avec succès.\n"
     ]
    }
   ],
   "source": [
    "output_path = r\"C:\\Users\\jackd\\Downloads\\Portfolio Data Analyst\\Python\\Tennis\\all_matches_clean.csv\"\n",
    "df_all.to_csv(output_path, index=False)\n",
    "print(\"Fichier sauvegardé avec succès.\")"
   ]
  }
 ],
 "metadata": {
  "kernelspec": {
   "display_name": "Python 3 (ipykernel)",
   "language": "python",
   "name": "python3"
  },
  "language_info": {
   "codemirror_mode": {
    "name": "ipython",
    "version": 3
   },
   "file_extension": ".py",
   "mimetype": "text/x-python",
   "name": "python",
   "nbconvert_exporter": "python",
   "pygments_lexer": "ipython3",
   "version": "3.8.3"
  }
 },
 "nbformat": 4,
 "nbformat_minor": 5
}
